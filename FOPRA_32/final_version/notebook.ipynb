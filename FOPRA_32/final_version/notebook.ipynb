{
 "cells": [
  {
   "cell_type": "code",
   "execution_count": 2,
   "metadata": {},
   "outputs": [],
   "source": [
    "\"\"\"Toy code implementing a matrix product state.\"\"\"\n",
    "\n",
    "import numpy as np\n",
    "from scipy.linalg import svd\n",
    "\n"
   ]
  },
  {
   "cell_type": "code",
   "execution_count": 3,
   "metadata": {},
   "outputs": [],
   "source": [
    "\n",
    "class MPS:\n",
    "    \"\"\"Class for a matrix product state.\n",
    "\n",
    "    We index sites with `i` from 0 to L-1; bond `i` is left of site `i`.\n",
    "    We *assume* that the state is in right-canonical form.\n",
    "\n",
    "    Parameters\n",
    "    ----------\n",
    "    Bs, Ss:\n",
    "        Same as attributes.\n",
    "\n",
    "    Attributes\n",
    "    ----------\n",
    "    Bs : list of np.Array[ndim=3]\n",
    "        The 'matrices' in right-canonical form, one for each physical site.\n",
    "        Each `B[i]` has legs (virtual left, physical, virtual right), in short ``vL i vR``\n",
    "    Ss : list of np.Array[ndim=1]\n",
    "        The Schmidt values at each of the bonds, ``Ss[i]`` is left of ``Bs[i]``.\n",
    "    L : int\n",
    "        Number of sites.\n",
    "    \"\"\"\n",
    "\n",
    "    def __init__(self, Bs, Ss):\n",
    "        self.Bs = Bs\n",
    "        self.Ss = Ss\n",
    "        self.L = len(Bs)\n",
    "\n",
    "    def copy(self):\n",
    "        return MPS([B.copy() for B in self.Bs], [S.copy() for S in self.Ss])\n",
    "\n",
    "    def get_theta1(self, i):\n",
    "        \"\"\"Calculate effective single-site wave function on sites i in mixed canonical form.\n",
    "\n",
    "        The returned array has legs ``vL, i, vR`` (as one of the Bs).\"\"\"\n",
    "        return np.tensordot(np.diag(self.Ss[i]), self.Bs[i], [1, 0])  # vL [vL'], [vL] i vR\n",
    "\n",
    "    def get_theta2(self, i):\n",
    "        \"\"\"Calculate effective two-site wave function on sites i,j=(i+1) in mixed canonical form.\n",
    "\n",
    "        The returned array has legs ``vL, i, j, vR``.\"\"\"\n",
    "        j = i + 1\n",
    "        return np.tensordot(self.get_theta1(i), self.Bs[j], [2, 0])  # vL i [vR], [vL] j vR\n",
    "\n",
    "    def get_chi(self):\n",
    "        \"\"\"Return bond dimensions.\"\"\"\n",
    "        return [self.Bs[i].shape[2] for i in range(self.L - 1)]\n",
    "\n",
    "    def site_expectation_value(self, op):\n",
    "        \"\"\"Calculate expectation values of a local operator at each site.\"\"\"\n",
    "        result = []\n",
    "        for i in range(self.L):\n",
    "            theta = self.get_theta1(i)  # vL i vR\n",
    "            op_theta = np.tensordot(op, theta, axes=[1, 1])  # i [i*], vL [i] vR\n",
    "            result.append(np.tensordot(theta.conj(), op_theta, [[0, 1, 2], [1, 0, 2]]))\n",
    "            # [vL*] [i*] [vR*], [i] [vL] [vR]\n",
    "        return np.real_if_close(result)\n",
    "\n",
    "    def bond_expectation_value(self, op):\n",
    "        \"\"\"Calculate expectation values of a local operator at each bond.\"\"\"\n",
    "        result = []\n",
    "        for i in range(self.L - 1):\n",
    "            theta = self.get_theta2(i)  # vL i j vR\n",
    "            op_theta = np.tensordot(op[i], theta, axes=[[2, 3], [1, 2]])\n",
    "            # i j [i*] [j*], vL [i] [j] vR\n",
    "            result.append(np.tensordot(theta.conj(), op_theta, [[0, 1, 2, 3], [2, 0, 1, 3]]))\n",
    "            # [vL*] [i*] [j*] [vR*], [i] [j] [vL] [vR]\n",
    "        return np.real_if_close(result)\n",
    "\n",
    "    def entanglement_entropy(self):\n",
    "        \"\"\"Return the (von-Neumann) entanglement entropy for a bipartition at any of the bonds.\"\"\"\n",
    "        result = []\n",
    "        for i in range(1, self.L):\n",
    "            S = self.Ss[i].copy()\n",
    "            S[S < 1.e-20] = 0.  # 0*log(0) should give 0; avoid warning or NaN.\n",
    "            S2 = S * S\n",
    "            assert abs(np.linalg.norm(S) - 1.) < 1.e-14\n",
    "            result.append(-np.sum(S2 * np.log(S2)))\n",
    "        return np.array(result)\n",
    "\n"
   ]
  },
  {
   "cell_type": "code",
   "execution_count": 4,
   "metadata": {},
   "outputs": [],
   "source": [
    "\n",
    "def init_spinup_MPS(L):\n",
    "    \"\"\"Return a product state with all spins up as an MPS\"\"\"\n",
    "    B = np.zeros([1, 2, 1], np.float)\n",
    "    B[0, 0, 0] = 1.\n",
    "    S = np.ones([1], np.float)\n",
    "    Bs = [B.copy() for i in range(L)]\n",
    "    Ss = [S.copy() for i in range(L)]\n",
    "    return MPS(Bs, Ss)\n"
   ]
  },
  {
   "cell_type": "code",
   "execution_count": 29,
   "metadata": {},
   "outputs": [],
   "source": [
    "def init_spinup_right_MPS(L):\n",
    "    \"\"\"Return a product state with all spins right as an MPS\"\"\"\n",
    "    B = np.zeros([1, 2, 1], np.float)\n",
    "    B[0, 0, 0] = 1./np.sqrt(2)\n",
    "    B[0, 1, 0] = 1./np.sqrt(2)\n",
    "    S = np.ones([1], np.float)\n",
    "    Bs = [B.copy() for i in range(L)]\n",
    "    Ss = [S.copy() for i in range(L)]\n",
    "    return MPS(Bs, Ss)\n"
   ]
  },
  {
   "cell_type": "code",
   "execution_count": 5,
   "metadata": {},
   "outputs": [],
   "source": [
    "\n",
    "\n",
    "def split_truncate_theta(theta, chi_max, eps):\n",
    "    \"\"\"Split and truncate a two-site wave function in mixed canonical form.\n",
    "\n",
    "    Split a two-site wave function as follows::\n",
    "          vL --(theta)-- vR     =>    vL --(A)--diag(S)--(B)-- vR\n",
    "                |   |                       |             |\n",
    "                i   j                       i             j\n",
    "\n",
    "    Afterwards, truncate in the new leg (labeled ``vC``).\n",
    "\n",
    "    Parameters\n",
    "    ----------\n",
    "    theta : np.Array[ndim=4]\n",
    "        Two-site wave function in mixed canonical form, with legs ``vL, i, j, vR``.\n",
    "    chi_max : int\n",
    "        Maximum number of singular values to keep\n",
    "    eps : float\n",
    "        Discard any singular values smaller than that.\n",
    "\n",
    "    Returns\n",
    "    -------\n",
    "    A : np.Array[ndim=3]\n",
    "        Left-canonical matrix on site i, with legs ``vL, i, vC``\n",
    "    S : np.Array[ndim=1]\n",
    "        Singular/Schmidt values.\n",
    "    B : np.Array[ndim=3]\n",
    "        Right-canonical matrix on site j, with legs ``vC, j, vR``\n",
    "    \"\"\"\n",
    "    chivL, dL, dR, chivR = theta.shape\n",
    "    theta = np.reshape(theta, [chivL * dL, dR * chivR])\n",
    "    X, Y, Z = svd(theta, full_matrices=False)\n",
    "    # truncate\n",
    "    chivC = min(chi_max, np.sum(Y > eps))\n",
    "    assert chivC >= 1\n",
    "    piv = np.argsort(Y)[::-1][:chivC]  # keep the largest `chivC` singular values\n",
    "    X, Y, Z = X[:, piv], Y[piv], Z[piv, :]\n",
    "    # renormalize\n",
    "    S = Y / np.linalg.norm(Y)  # == Y/sqrt(sum(Y**2))\n",
    "    # split legs of X and Z\n",
    "    A = np.reshape(X, [chivL, dL, chivC])\n",
    "    B = np.reshape(Z, [chivC, dR, chivR])\n",
    "    return A, S, B\n",
    "\n",
    "\n"
   ]
  },
  {
   "cell_type": "code",
   "execution_count": 25,
   "metadata": {},
   "outputs": [
    {
     "name": "stderr",
     "output_type": "stream",
     "text": [
      "/tmp/ipykernel_27179/3484609686.py:3: DeprecationWarning: `np.float` is a deprecated alias for the builtin `float`. To silence this warning, use `float` by itself. Doing this will not modify any behavior and is safe. If you specifically wanted the numpy scalar type, use `np.float64` here.\n",
      "Deprecated in NumPy 1.20; for more details and guidance: https://numpy.org/devdocs/release/1.20.0-notes.html#deprecations\n",
      "  B = np.zeros([1, 2, 1], np.float)\n",
      "/tmp/ipykernel_27179/3484609686.py:5: DeprecationWarning: `np.float` is a deprecated alias for the builtin `float`. To silence this warning, use `float` by itself. Doing this will not modify any behavior and is safe. If you specifically wanted the numpy scalar type, use `np.float64` here.\n",
      "Deprecated in NumPy 1.20; for more details and guidance: https://numpy.org/devdocs/release/1.20.0-notes.html#deprecations\n",
      "  S = np.ones([1], np.float)\n"
     ]
    },
    {
     "data": {
      "text/plain": [
       "array([0., 0., 0., 0., 0., 0., 0., 0., 0., 0., 0., 0., 0., 0.])"
      ]
     },
     "execution_count": 25,
     "metadata": {},
     "output_type": "execute_result"
    }
   ],
   "source": [
    "\n",
    "testInstance = init_spinup_MPS(14)\n",
    "\n",
    "sigmaX = np.array([[0., 1.],[1., 0.]])\n",
    "sigmaZ = np.array([[1., 0.],[0., -1.]])\n",
    "testInstance.site_expectation_value(sigmaX)\n",
    "# testInstance.site_expectation_value(sigmaZ)\n"
   ]
  },
  {
   "cell_type": "code",
   "execution_count": 31,
   "metadata": {},
   "outputs": [
    {
     "name": "stderr",
     "output_type": "stream",
     "text": [
      "/tmp/ipykernel_27179/1309637730.py:3: DeprecationWarning: `np.float` is a deprecated alias for the builtin `float`. To silence this warning, use `float` by itself. Doing this will not modify any behavior and is safe. If you specifically wanted the numpy scalar type, use `np.float64` here.\n",
      "Deprecated in NumPy 1.20; for more details and guidance: https://numpy.org/devdocs/release/1.20.0-notes.html#deprecations\n",
      "  B = np.zeros([1, 2, 1], np.float)\n",
      "/tmp/ipykernel_27179/1309637730.py:6: DeprecationWarning: `np.float` is a deprecated alias for the builtin `float`. To silence this warning, use `float` by itself. Doing this will not modify any behavior and is safe. If you specifically wanted the numpy scalar type, use `np.float64` here.\n",
      "Deprecated in NumPy 1.20; for more details and guidance: https://numpy.org/devdocs/release/1.20.0-notes.html#deprecations\n",
      "  S = np.ones([1], np.float)\n"
     ]
    },
    {
     "data": {
      "text/plain": [
       "array([1., 1., 1., 1., 1., 1., 1., 1., 1., 1., 1., 1., 1., 1.])"
      ]
     },
     "execution_count": 31,
     "metadata": {},
     "output_type": "execute_result"
    }
   ],
   "source": [
    "\n",
    "testInstance2 = init_spinup_right_MPS(14)\n",
    "\n",
    "# print(testInstance2.Bs)\n",
    "\n",
    "sigmaX = np.array([[0., 1.],[1., 0.]])\n",
    "sigmaZ = np.array([[1., 0.],[0., -1.]])\n",
    "testInstance2.site_expectation_value(sigmaX)\n",
    "# testInstance.site_expectation_value(sigmaZ)\n"
   ]
  },
  {
   "cell_type": "code",
   "execution_count": null,
   "metadata": {},
   "outputs": [],
   "source": []
  }
 ],
 "metadata": {
  "kernelspec": {
   "display_name": "Python 3",
   "language": "python",
   "name": "python3"
  },
  "language_info": {
   "codemirror_mode": {
    "name": "ipython",
    "version": 3
   },
   "file_extension": ".py",
   "mimetype": "text/x-python",
   "name": "python",
   "nbconvert_exporter": "python",
   "pygments_lexer": "ipython3",
   "version": "3.10.6"
  },
  "orig_nbformat": 4
 },
 "nbformat": 4,
 "nbformat_minor": 2
}
