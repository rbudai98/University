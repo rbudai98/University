{
 "cells": [
  {
   "cell_type": "code",
   "execution_count": 8,
   "metadata": {},
   "outputs": [],
   "source": [
    "\"\"\"Toy code implementing the time evolving block decimation (TEBD).\"\"\"\n",
    "\n",
    "import numpy as np\n",
    "from scipy.linalg import expm\n",
    "from a_mps import split_truncate_theta\n"
   ]
  },
  {
   "cell_type": "code",
   "execution_count": 13,
   "metadata": {},
   "outputs": [],
   "source": [
    "\"\"\"Toy code implementing the transverse-field ising model and\n",
    "   the ising model with a transverse and longitudinal field.\"\"\"\n",
    "\n",
    "import numpy as np\n",
    "\n",
    "\n",
    "class TFIModel:\n",
    "    \"\"\"Class generating the Hamiltonian of the transverse-field Ising model.\n",
    "\n",
    "    The Hamiltonian reads\n",
    "    .. math ::\n",
    "        H = - J \\\\sum_{i} \\\\sigma^x_i \\\\sigma^x_{i+1} - g \\\\sum_{i} \\\\sigma^z_i\n",
    "\n",
    "    Parameters\n",
    "    ----------\n",
    "    L : int\n",
    "        Number of sites.\n",
    "    J, g : float\n",
    "        Coupling parameters of the above defined Hamiltonian.\n",
    "\n",
    "    Attributes\n",
    "    ----------\n",
    "    L : int\n",
    "        Number of sites.\n",
    "    d : int\n",
    "        Local dimension (=2 for spin-1/2 of the transverse field ising model)\n",
    "    sigmax, sigmay, sigmaz, id :\n",
    "        Local operators, namely the Pauli matrices and identity.\n",
    "    H_bonds : list of np.Array[ndim=4]\n",
    "        The Hamiltonian written in terms of local 2-site operators, ``H = sum_i H_bonds[i]``.\n",
    "        Each ``H_bonds[i]`` has (physical) legs (i out, (i+1) out, i in, (i+1) in),\n",
    "        in short ``i j i* j*``.\n",
    "    \"\"\"\n",
    "\n",
    "    def __init__(self, L, J, g, h):\n",
    "        self.L, self.d = L, 2\n",
    "        self.J, self.g, self.h = J, g, h\n",
    "\n",
    "        self.sigmax = np.array([[0., 1.], [1., 0.]])\n",
    "        self.sigmay = np.array([[0., -1j], [1j, 0.]])\n",
    "        self.sigmaz = np.array([[1., 0.], [0., -1.]])\n",
    "        self.id = np.eye(2)\n",
    "        self.init_H_bonds()\n",
    "\n",
    "    def init_H_bonds(self):\n",
    "        \"\"\"Initialize `H_bonds` hamiltonian. Called by __init__().\"\"\"\n",
    "        sx, sz, id = self.sigmax, self.sigmaz, self.id\n",
    "        d = self.d\n",
    "        H_list = []\n",
    "        for i in range(self.L - 1):\n",
    "            gL = gR = 0.5 * self.g\n",
    "            hL = hR = 0.5 * self.h\n",
    "            if i == 0: # first bond\n",
    "                gL = self.g\n",
    "                hL = self.h\n",
    "            if i + 1 == self.L - 1: # last bond\n",
    "                gR = self.g\n",
    "                hR = self.h\n",
    "\n",
    "            H_bond = -self.J * np.kron(sx, sx) - gL * np.kron(sz, id) - gR * np.kron(id, sz) - hL * np.kron(sx, id) - hR * np.kron(id, sx)                \n",
    "            # H_bond has legs ``i, j, i*, j*``\n",
    "            H_list.append(np.reshape(H_bond, [d, d, d, d]))\n",
    "        self.H_bonds = H_list\n",
    "\n",
    "    def energy(self, psi):\n",
    "        \"\"\"Evaluate energy E = <psi|H|psi> for the given MPS.\"\"\"\n",
    "        assert psi.L == self.L\n",
    "        return np.sum(psi.bond_expectation_value(self.H_bonds))\n"
   ]
  },
  {
   "cell_type": "code",
   "execution_count": 12,
   "metadata": {},
   "outputs": [],
   "source": [
    "\n",
    "\n",
    "def calc_U_bonds(model, dt):\n",
    "    \"\"\"Given a model, calculate ``U_bonds[i] = expm(-dt*model.H_bonds[i])``.\n",
    "\n",
    "    Each local operator has legs (i out, (i+1) out, i in, (i+1) in), in short ``i j i* j*``.\n",
    "    Note that no imaginary 'i' is included, thus real `dt` means imaginary time evolution!\n",
    "    \"\"\"\n",
    "    H_bonds = model.H_bonds\n",
    "    d = H_bonds[0].shape[0]\n",
    "    U_bonds = []\n",
    "    for H in H_bonds:\n",
    "        H = np.reshape(H, [d * d, d * d])\n",
    "        U = expm(-dt * H)\n",
    "        U_bonds.append(np.reshape(U, [d, d, d, d]))\n",
    "    return U_bonds\n",
    "\n"
   ]
  },
  {
   "cell_type": "code",
   "execution_count": 26,
   "metadata": {},
   "outputs": [],
   "source": [
    "\n",
    "def run_TEBD(psi, U_bonds, N_steps, chi_max, eps):\n",
    "    \"\"\"Evolve the state `psi` for `N_steps` time steps with (first order) TEBD.\n",
    "\n",
    "    The state psi is modified in place.\"\"\"\n",
    "    Nbonds = psi.L - 1\n",
    "    assert len(U_bonds) == Nbonds\n",
    "    for n in range(N_steps):\n",
    "        for k in [0, 1]:  # even, odd\n",
    "            for i_bond in range(k, Nbonds, 2):\n",
    "                update_bond(psi, i_bond, U_bonds[i_bond], chi_max, eps)\n",
    "    # done\n",
    "\n"
   ]
  },
  {
   "cell_type": "code",
   "execution_count": 11,
   "metadata": {},
   "outputs": [],
   "source": [
    "\n",
    "def update_bond(psi, i, U_bond, chi_max, eps):\n",
    "    \"\"\"Apply `U_bond` acting on i,j=(i+1) to `psi`.\"\"\"\n",
    "    j = i + 1\n",
    "    # construct theta matrix\n",
    "    theta = psi.get_theta2(i)  # vL i j vR\n",
    "    # apply U\n",
    "    Utheta = np.tensordot(U_bond, theta, axes=([2, 3], [1, 2]))  # i j [i*] [j*], vL [i] [j] vR\n",
    "    Utheta = np.transpose(Utheta, [2, 0, 1, 3])  # vL i j vR\n",
    "    # split and truncate\n",
    "    Ai, Sj, Bj = split_truncate_theta(Utheta, chi_max, eps)\n",
    "    # put back into MPS\n",
    "    Gi = np.tensordot(np.diag(psi.Ss[i]**(-1)), Ai, axes=[1, 0])  # vL [vL*], [vL] i vC\n",
    "    psi.Bs[i] = np.tensordot(Gi, np.diag(Sj), axes=[2, 0])  # vL i [vC], [vC] vC\n",
    "    psi.Ss[j] = Sj  # vC\n",
    "    psi.Bs[j] = Bj  # vC j vR\n",
    "\n"
   ]
  },
  {
   "cell_type": "code",
   "execution_count": 10,
   "metadata": {},
   "outputs": [],
   "source": [
    "\n",
    "\n",
    "def example_TEBD_gs_finite(L, J, g):\n",
    "    print(\"finite TEBD, (imaginary time evolution)\")\n",
    "    print(\"L={L:d}, J={J:.1f}, g={g:.2f}\".format(L=L, J=J, g=g))\n",
    "    import a_mps\n",
    "    # import b_model\n",
    "    model = TFIModel(L, J=J, g=g, h=0)\n",
    "    psi = a_mps.init_spinup_MPS(L)\n",
    "    for dt in [0.1, 0.01, 0.001, 1.e-4, 1.e-5]:\n",
    "        U_bonds = calc_U_bonds(model, dt)\n",
    "        run_TEBD(psi, U_bonds, N_steps=500, chi_max=100, eps=1.e-10)\n",
    "        E = model.energy(psi)\n",
    "        print(\"dt = {dt:.5f}: E = {E:.13f}\".format(dt=dt, E=E))\n",
    "    print(\"final bond dimensions: \", psi.get_chi())\n",
    "    return E, psi, model\n",
    "\n"
   ]
  },
  {
   "cell_type": "code",
   "execution_count": 22,
   "metadata": {},
   "outputs": [
    {
     "name": "stdout",
     "output_type": "stream",
     "text": [
      "finite TEBD, (imaginary time evolution)\n",
      "L=14, J=1.0, g=1.50\n",
      "dt = 0.10000: E = -23.1210722544100\n",
      "dt = 0.01000: E = -23.2133644786914\n",
      "dt = 0.00100: E = -23.2220037685472\n",
      "dt = 0.00010: E = -23.2228606166766\n",
      "dt = 0.00001: E = -23.2229463553360\n",
      "final bond dimensions:  [2, 4, 8, 13, 17, 18, 18, 18, 17, 13, 8, 4, 2]\n"
     ]
    }
   ],
   "source": [
    "\n",
    "if __name__ == \"__main__\":\n",
    "    example_TEBD_gs_finite(L=14, J=1., g=1.5)\n"
   ]
  },
  {
   "cell_type": "code",
   "execution_count": 41,
   "metadata": {},
   "outputs": [],
   "source": [
    "def calc_correlation_func(op1, op2, psi, site):\n",
    "    L = psi.L\n",
    "    contraction = psi.get_theta1(site)\n",
    "\n",
    "    result = []\n",
    "    result.append(\n",
    "    psi.site_expectation_value(\n",
    "        np.tensordot(op1, op2, (1,0))\n",
    "        )[site]\n",
    "    )\n",
    "\n",
    "    for j in range(site + 1, L, 1):\n",
    "        # init contraction again\n",
    "        contraction = psi.get_theta1(site) #vL, i, vR\n",
    "        op_theta = np.tensordot(op1, contraction, axes=[1, 1]) # i [i*]   |   vL [i] vR  --> i, vL, vR\n",
    "        # [vL*], [i*], vR*  |   [i], [vL], vR \n",
    "        contraction = np.tensordot(contraction.conj(), op_theta, [[0, 1], [1, 0]]) # vR* vR \n",
    "\n",
    "        # contract until we arrive at position of op2 (index j)\n",
    "        for k in range(site + 1, j, 1):\n",
    "            # [vL] i vR | vR* [vR]\n",
    "            op_theta = np.tensordot(psi.Bs[k], contraction, [0, 1]) # i vR vR*\n",
    "            # [vL]* i* vR* | i vR vR*\n",
    "            contraction = np.tensordot(psi.Bs[k].conj(), op_theta, [[0, 1], [2, 0]]) # vR* vR\n",
    "\n",
    "        # contract with op2\n",
    "        # [vL] i vR | vR* vR\n",
    "        op_theta = np.tensordot(psi.Bs[j], contraction, [0, 1]) # i vR vR* \n",
    "        # i [i*] | i vR vR*\n",
    "        op_theta = np.tensordot(op2, op_theta, [1, 0]) # i vR vR*\n",
    "        #  [vL]* i* vR*  | i vR vR*\n",
    "        contraction = np.tensordot(psi.Bs[j].conj(), op_theta, [[0, 1], [2 , 0]]) # vR* vR\n",
    "\n",
    "        # contract until end\n",
    "        for k in range(j + 1, L, 1):\n",
    "            # [vL] i vR | vR* vR\n",
    "            op_theta = np.tensordot(psi.Bs[k], contraction, [0, 1]) # i vR vR*\n",
    "            # [vL]* i* vR* | i vR vR*\n",
    "            contraction = np.tensordot(psi.Bs[k].conj(), op_theta, [[0, 1], [2, 0]]) # vR* vR\n",
    "\n",
    "        result.append(\n",
    "        np.trace(contraction)\n",
    "        )\n",
    "\n",
    "    return np.array(result)\n",
    "\n"
   ]
  },
  {
   "cell_type": "code",
   "execution_count": 43,
   "metadata": {},
   "outputs": [
    {
     "name": "stdout",
     "output_type": "stream",
     "text": [
      "finite TEBD, (imaginary time evolution)\n",
      "L=30, J=1.0, g=0.30\n",
      "dt = 0.10000: E = -29.7237778057965\n",
      "dt = 0.01000: E = -29.7243442589172\n",
      "dt = 0.00100: E = -29.7244030096187\n",
      "dt = 0.00010: E = -29.7244089062471\n",
      "dt = 0.00001: E = -29.7244094959373\n",
      "final bond dimensions:  [2, 4, 8, 12, 14, 14, 14, 14, 14, 14, 14, 14, 14, 14, 14, 14, 14, 14, 14, 14, 14, 14, 14, 14, 14, 12, 8, 4, 2]\n",
      "finite TEBD, (imaginary time evolution)\n",
      "L=30, J=1.0, g=0.47\n",
      "dt = 0.10000: E = -30.8020025213167\n",
      "dt = 0.01000: E = -30.8055056150777\n",
      "dt = 0.00100: E = -30.8058627785883\n",
      "dt = 0.00010: E = -30.8058985786382\n",
      "dt = 0.00001: E = -30.8059021588407\n",
      "final bond dimensions:  [2, 4, 8, 14, 18, 20, 20, 20, 20, 20, 20, 20, 20, 20, 20, 20, 20, 20, 20, 20, 20, 20, 20, 20, 18, 14, 8, 4, 2]\n",
      "finite TEBD, (imaginary time evolution)\n",
      "L=30, J=1.0, g=0.64\n",
      "dt = 0.10000: E = -32.3950762064312\n",
      "dt = 0.01000: E = -32.4075747072691\n",
      "dt = 0.00100: E = -32.4088141220436\n",
      "dt = 0.00010: E = -32.4089380720924\n",
      "dt = 0.00001: E = -32.4089504680253\n",
      "final bond dimensions:  [2, 4, 8, 14, 20, 24, 26, 26, 28, 28, 28, 28, 28, 28, 28, 28, 28, 28, 28, 28, 28, 26, 26, 24, 20, 14, 8, 4, 2]\n",
      "finite TEBD, (imaginary time evolution)\n",
      "L=30, J=1.0, g=0.81\n",
      "dt = 0.10000: E = -34.5577988718325\n",
      "dt = 0.01000: E = -34.5937012362123\n",
      "dt = 0.00100: E = -34.5971408715000\n",
      "dt = 0.00010: E = -34.5974838263042\n",
      "dt = 0.00001: E = -34.5975181279305\n",
      "final bond dimensions:  [2, 4, 8, 16, 22, 28, 32, 34, 34, 36, 36, 37, 40, 40, 40, 40, 40, 37, 36, 36, 34, 34, 32, 28, 22, 16, 8, 4, 2]\n",
      "finite TEBD, (imaginary time evolution)\n",
      "L=30, J=1.0, g=0.99\n",
      "dt = 0.10000: E = -37.4292596182674\n",
      "dt = 0.01000: E = -37.5382071539854\n",
      "dt = 0.00100: E = -37.5486011778223\n",
      "dt = 0.00010: E = -37.5496368445588\n",
      "dt = 0.00001: E = -37.5497404718280\n",
      "final bond dimensions:  [2, 4, 8, 16, 22, 29, 33, 34, 36, 39, 41, 42, 44, 45, 45, 45, 44, 42, 41, 39, 36, 34, 33, 29, 22, 16, 8, 4, 2]\n",
      "finite TEBD, (imaginary time evolution)\n",
      "L=30, J=1.0, g=1.16\n",
      "dt = 0.10000: E = -41.1252544112483\n",
      "dt = 0.01000: E = -41.3001315483284\n",
      "dt = 0.00100: E = -41.3168568026397\n",
      "dt = 0.00010: E = -41.3185217724798\n",
      "dt = 0.00001: E = -41.3186883757157\n",
      "final bond dimensions:  [2, 4, 8, 15, 21, 25, 27, 29, 31, 32, 32, 34, 35, 35, 35, 35, 35, 34, 32, 32, 31, 29, 27, 25, 21, 15, 8, 4, 2]\n",
      "finite TEBD, (imaginary time evolution)\n",
      "L=30, J=1.0, g=1.33\n",
      "dt = 0.10000: E = -45.2914682369331\n",
      "dt = 0.01000: E = -45.5017448783076\n",
      "dt = 0.00100: E = -45.5219209798875\n",
      "dt = 0.00010: E = -45.5239285154346\n",
      "dt = 0.00001: E = -45.5241294023043\n",
      "final bond dimensions:  [2, 4, 8, 14, 18, 21, 22, 24, 25, 26, 27, 27, 27, 27, 27, 27, 27, 27, 27, 26, 25, 24, 22, 21, 18, 14, 8, 4, 2]\n",
      "finite TEBD, (imaginary time evolution)\n",
      "L=30, J=1.0, g=1.50\n",
      "dt = 0.10000: E = -49.7168748869192\n",
      "dt = 0.01000: E = -49.9489661365705\n",
      "dt = 0.00100: E = -49.9713017202359\n",
      "dt = 0.00010: E = -49.9735234897800\n",
      "dt = 0.00001: E = -49.9737458215903\n",
      "final bond dimensions:  [2, 4, 8, 13, 17, 20, 20, 20, 20, 21, 21, 21, 21, 21, 21, 21, 21, 21, 21, 21, 20, 20, 20, 20, 17, 13, 8, 4, 2]\n"
     ]
    }
   ],
   "source": [
    "from c_tebd import run_TEBD \n",
    "from a_mps import init_spinup_MPS\n",
    "import matplotlib.pyplot as plt\n",
    "\n",
    "\n",
    "sigmaX = np.array([[0., 1.],[1., 0.]])\n",
    "\n",
    "\n",
    "L = 30\n",
    "gs = np.linspace(0.3,1.5,4)\n",
    "# t_final\n",
    "J = 1\n",
    "\n",
    "psis = []\n",
    "\n",
    "for g in gs:\n",
    "    E, psi, model = example_TEBD_gs_finite(L, J, g)\n",
    "    psis.append(psi)\n"
   ]
  },
  {
   "cell_type": "code",
   "execution_count": 44,
   "metadata": {},
   "outputs": [
    {
     "data": {
      "image/png": "[encoded data removed]",
      "text/plain": [
       "<Figure size 640x480 with 1 Axes>"
      ]
     },
     "metadata": {},
     "output_type": "display_data"
    }
   ],
   "source": [
    "\n",
    "for i in psis:\n",
    "    # psi = a_mps.init_spinup_MPS(L)\n",
    "    # model = TFIModel(L, 1, g, 0)\n",
    "    # corrs = []\n",
    "    # for dt in [0.1, 0.01, 0.001, 1.e-4, 1.e-5]:\n",
    "    #     U_bonds = calc_U_bonds(model,dt)\n",
    "    #     run_TEBD(psi, U_bonds, 500, 100, 1.e-5)\n",
    "    #     corrs.append(calc_correlation_function(sigmaX, sigmaX, psi, L//4))\n",
    "    # plt.plot()\n",
    "\n",
    "    corrs = calc_correlation_func(sigmaX, sigmaX, i, L//4)\n",
    "    plt.plot(np.arange(0, len(corrs)), corrs)\n",
    "\n",
    "plt.show()\n",
    "\n"
   ]
  },
  {
   "cell_type": "code",
   "execution_count": 45,
   "metadata": {},
   "outputs": [
    {
     "data": {
      "image/png": "[encoded data removed]",
      "text/plain": [
       "<Figure size 640x480 with 1 Axes>"
      ]
     },
     "metadata": {},
     "output_type": "display_data"
    }
   ],
   "source": [
    "corrs = []\n",
    "for psi in psis:\n",
    "    corrs.append(calc_correlation_func(sigmaX, sigmaX, psi, L//4)[-L//4])\n",
    "\n",
    "plt.plot(gs, corrs)\n",
    "plt.show()\n",
    "\n"
   ]
  },
  {
   "cell_type": "code",
   "execution_count": 45,
   "metadata": {},
   "outputs": [],
   "source": [
    "def calc_contraction_func(psi1, psi2):\n",
    "    L = psi.L\n",
    "    site = 0\n",
    "\n",
    "    top = psi1.get_theta1(site)\n",
    "    bottom = psi2.get_theta1(site).conj()\n",
    "\n",
    "    result = []\n",
    "\n",
    "    # vL i vR | vL* i * vR*\n",
    "    contraction = np.tensordot(top, bottom,[[0, 1], [0, 1]]) #  vR  vR*\n",
    "\n",
    "    result.append(contraction)\n",
    "\n",
    "    for j in range(site+1, L, 1):\n",
    "        top = psi1.Bs[j]\n",
    "        bottom = psi2.Bs[j].conj()\n",
    "\n",
    "        # print(j)\n",
    "        \n",
    "        # vR vR* | vL i vR\n",
    "        contraction = np.tensordot(contraction, top, [[0],[0]]) # vR* i vR\n",
    "        #vR* i vR| vL* i* vR*\n",
    "        contraction = np.tensordot(contraction, bottom, [[0, 1],[0, 1]]) #  vR vR*\n",
    "\n",
    "        result.append(contraction)\n",
    "\n",
    "\n",
    "\n",
    "    return np.array(result)\n"
   ]
  },
  {
   "cell_type": "code",
   "execution_count": null,
   "metadata": {},
   "outputs": [],
   "source": []
  },
  {
   "cell_type": "code",
   "execution_count": 58,
   "metadata": {},
   "outputs": [],
   "source": [
    "def calc_contraction_func_final(op1, psi1, psi2):\n",
    "    contractions = calc_contraction_func(psi1, psi2)\n",
    "\n",
    "    result = []\n",
    "    right_contraction = None\n",
    "\n",
    "    L = psi1.L\n",
    "\n",
    "    top = psi1.get_theta1(L-1)\n",
    "    bottom = psi2.get_theta1(L-1).conj()\n",
    "    # vL i vR | vL* i* vR*\n",
    "    contraction = np.tensordot(top, bottom, [2, 2]) # vL i vL* i*\n",
    "\n",
    "    right_contraction = contraction\n",
    "\n",
    "    # sigma is at rightmost position\n",
    "    #vL i vL* i* | i i*\n",
    "    contraction = np.tensordot(contraction, op1, [[1,3],[0,1]]) # vL vL*\n",
    "    left_contraction = contractions[L-2]\n",
    "    \n",
    "    #vR vR* | vL vL*\n",
    "    result.append(np.tensordot(left_contraction, contraction, [[0, 1],[0, 1]])) \n",
    "\n",
    "    for j in range(L-2, -1, -1):\n",
    "\n",
    "\n",
    "        top = psi1.get_theta1(L-1)\n",
    "        bottom = psi2.get_theta1(L-1).conj()\n",
    "        # vL i vR | vL* i* vR*\n",
    "        contraction = np.tensordot(top, bottom, [[1, 2],[1, 2]]) # vL i vL* i*\n",
    "\n",
    "\n",
    "        # print(f\"j: {j}\")\n",
    "        for k in range(L-2, j, -1):\n",
    "            # print(f\"k: {k}\")\n",
    "            top = psi1.Bs[k]\n",
    "            bottom = psi2.Bs[k].conj()\n",
    "            \n",
    "            # vL vL* | vL i vR\n",
    "            contraction = np.tensordot(contraction, top, [[0],[2]]) # vL* vL i\n",
    "            #vL* vL i | vL* i* vR*\n",
    "            contraction = np.tensordot(contraction, bottom, [[2, 0],[1, 2]]) #  vL vL*\n",
    "\n",
    "        top = psi1.Bs[j]\n",
    "        bottom = psi2.Bs[j].conj()\n",
    "        # vL i vR | vL vL*\n",
    "        contraction = np.tensordot(top, contraction, [2, 0]) # vL i vL*\n",
    "        # vL i vL* | i i*\n",
    "        contraction = np.tensordot(contraction, op1, [1, 0]) # vL vL* i*\n",
    "        # vL vL* i* | vL* i* vR*\n",
    "        contraction = np.tensordot(contraction, bottom, [[2, 1],[1, 2]]) # vL vL*\n",
    "        #vR vR* | vL vL*\n",
    "        result.append(np.tensordot(contractions[j-1],contraction, [[0, 1],[0, 1]]))\n",
    "    \n",
    "    return np.array(result)\n",
    "\n"
   ]
  },
  {
   "cell_type": "code",
   "execution_count": 71,
   "metadata": {},
   "outputs": [
    {
     "name": "stdout",
     "output_type": "stream",
     "text": [
      "finite TEBD, (imaginary time evolution)\n",
      "L=30, J=1.0, g=1.30\n"
     ]
    },
    {
     "ename": "KeyboardInterrupt",
     "evalue": "",
     "output_type": "error",
     "traceback": [
      "\u001b[0;31m---------------------------------------------------------------------------\u001b[0m",
      "\u001b[0;31mKeyboardInterrupt\u001b[0m                         Traceback (most recent call last)",
      "Cell \u001b[0;32mIn[71], line 15\u001b[0m\n\u001b[1;32m     12\u001b[0m \u001b[39m# t_final\u001b[39;00m\n\u001b[1;32m     13\u001b[0m J \u001b[39m=\u001b[39m \u001b[39m1\u001b[39m\n\u001b[0;32m---> 15\u001b[0m E, psi, model \u001b[39m=\u001b[39m example_TEBD_gs_finite(L, J, g)\n",
      "Cell \u001b[0;32mIn[10], line 10\u001b[0m, in \u001b[0;36mexample_TEBD_gs_finite\u001b[0;34m(L, J, g)\u001b[0m\n\u001b[1;32m      8\u001b[0m \u001b[39mfor\u001b[39;00m dt \u001b[39min\u001b[39;00m [\u001b[39m0.1\u001b[39m, \u001b[39m0.01\u001b[39m, \u001b[39m0.001\u001b[39m, \u001b[39m1.e-4\u001b[39m, \u001b[39m1.e-5\u001b[39m]:\n\u001b[1;32m      9\u001b[0m     U_bonds \u001b[39m=\u001b[39m calc_U_bonds(model, dt)\n\u001b[0;32m---> 10\u001b[0m     run_TEBD(psi, U_bonds, N_steps\u001b[39m=\u001b[39;49m\u001b[39m500\u001b[39;49m, chi_max\u001b[39m=\u001b[39;49m\u001b[39m100\u001b[39;49m, eps\u001b[39m=\u001b[39;49m\u001b[39m1.e-10\u001b[39;49m)\n\u001b[1;32m     11\u001b[0m     E \u001b[39m=\u001b[39m model\u001b[39m.\u001b[39menergy(psi)\n\u001b[1;32m     12\u001b[0m     \u001b[39mprint\u001b[39m(\u001b[39m\"\u001b[39m\u001b[39mdt = \u001b[39m\u001b[39m{dt:.5f}\u001b[39;00m\u001b[39m: E = \u001b[39m\u001b[39m{E:.13f}\u001b[39;00m\u001b[39m\"\u001b[39m\u001b[39m.\u001b[39mformat(dt\u001b[39m=\u001b[39mdt, E\u001b[39m=\u001b[39mE))\n",
      "File \u001b[0;32m~/University/FOPRA_32/final_version/c_tebd.py:33\u001b[0m, in \u001b[0;36mrun_TEBD\u001b[0;34m(psi, U_bonds, N_steps, chi_max, eps)\u001b[0m\n\u001b[1;32m     31\u001b[0m \u001b[39mfor\u001b[39;00m k \u001b[39min\u001b[39;00m [\u001b[39m0\u001b[39m, \u001b[39m1\u001b[39m]:  \u001b[39m# even, odd\u001b[39;00m\n\u001b[1;32m     32\u001b[0m     \u001b[39mfor\u001b[39;00m i_bond \u001b[39min\u001b[39;00m \u001b[39mrange\u001b[39m(k, Nbonds, \u001b[39m2\u001b[39m):\n\u001b[0;32m---> 33\u001b[0m         update_bond(psi, i_bond, U_bonds[i_bond], chi_max, eps)\n",
      "File \u001b[0;32m~/University/FOPRA_32/final_version/c_tebd.py:46\u001b[0m, in \u001b[0;36mupdate_bond\u001b[0;34m(psi, i, U_bond, chi_max, eps)\u001b[0m\n\u001b[1;32m     44\u001b[0m Utheta \u001b[39m=\u001b[39m np\u001b[39m.\u001b[39mtranspose(Utheta, [\u001b[39m2\u001b[39m, \u001b[39m0\u001b[39m, \u001b[39m1\u001b[39m, \u001b[39m3\u001b[39m])  \u001b[39m# vL i j vR\u001b[39;00m\n\u001b[1;32m     45\u001b[0m \u001b[39m# split and truncate\u001b[39;00m\n\u001b[0;32m---> 46\u001b[0m Ai, Sj, Bj \u001b[39m=\u001b[39m split_truncate_theta(Utheta, chi_max, eps)\n\u001b[1;32m     47\u001b[0m \u001b[39m# put back into MPS\u001b[39;00m\n\u001b[1;32m     48\u001b[0m Gi \u001b[39m=\u001b[39m np\u001b[39m.\u001b[39mtensordot(np\u001b[39m.\u001b[39mdiag(psi\u001b[39m.\u001b[39mSs[i]\u001b[39m*\u001b[39m\u001b[39m*\u001b[39m(\u001b[39m-\u001b[39m\u001b[39m1\u001b[39m)), Ai, axes\u001b[39m=\u001b[39m[\u001b[39m1\u001b[39m, \u001b[39m0\u001b[39m])  \u001b[39m# vL [vL*], [vL] i vC\u001b[39;00m\n",
      "File \u001b[0;32m~/University/FOPRA_32/final_version/a_mps.py:142\u001b[0m, in \u001b[0;36msplit_truncate_theta\u001b[0;34m(theta, chi_max, eps)\u001b[0m\n\u001b[1;32m    140\u001b[0m chivL, dL, dR, chivR \u001b[39m=\u001b[39m theta\u001b[39m.\u001b[39mshape\n\u001b[1;32m    141\u001b[0m theta \u001b[39m=\u001b[39m np\u001b[39m.\u001b[39mreshape(theta, [chivL \u001b[39m*\u001b[39m dL, dR \u001b[39m*\u001b[39m chivR])\n\u001b[0;32m--> 142\u001b[0m X, Y, Z \u001b[39m=\u001b[39m svd(theta, full_matrices\u001b[39m=\u001b[39;49m\u001b[39mFalse\u001b[39;49;00m)\n\u001b[1;32m    143\u001b[0m \u001b[39m# truncate\u001b[39;00m\n\u001b[1;32m    144\u001b[0m chivC \u001b[39m=\u001b[39m \u001b[39mmin\u001b[39m(chi_max, np\u001b[39m.\u001b[39msum(Y \u001b[39m>\u001b[39m eps))\n",
      "File \u001b[0;32m~/.local/lib/python3.10/site-packages/scipy/linalg/_decomp_svd.py:127\u001b[0m, in \u001b[0;36msvd\u001b[0;34m(a, full_matrices, compute_uv, overwrite_a, check_finite, lapack_driver)\u001b[0m\n\u001b[1;32m    123\u001b[0m lwork \u001b[39m=\u001b[39m _compute_lwork(gesXd_lwork, a1\u001b[39m.\u001b[39mshape[\u001b[39m0\u001b[39m], a1\u001b[39m.\u001b[39mshape[\u001b[39m1\u001b[39m],\n\u001b[1;32m    124\u001b[0m                        compute_uv\u001b[39m=\u001b[39mcompute_uv, full_matrices\u001b[39m=\u001b[39mfull_matrices)\n\u001b[1;32m    126\u001b[0m \u001b[39m# perform decomposition\u001b[39;00m\n\u001b[0;32m--> 127\u001b[0m u, s, v, info \u001b[39m=\u001b[39m gesXd(a1, compute_uv\u001b[39m=\u001b[39;49mcompute_uv, lwork\u001b[39m=\u001b[39;49mlwork,\n\u001b[1;32m    128\u001b[0m                       full_matrices\u001b[39m=\u001b[39;49mfull_matrices, overwrite_a\u001b[39m=\u001b[39;49moverwrite_a)\n\u001b[1;32m    130\u001b[0m \u001b[39mif\u001b[39;00m info \u001b[39m>\u001b[39m \u001b[39m0\u001b[39m:\n\u001b[1;32m    131\u001b[0m     \u001b[39mraise\u001b[39;00m LinAlgError(\u001b[39m\"\u001b[39m\u001b[39mSVD did not converge\u001b[39m\u001b[39m\"\u001b[39m)\n",
      "\u001b[0;31mKeyboardInterrupt\u001b[0m: "
     ]
    }
   ],
   "source": [
    "#check\n",
    "from c_tebd import run_TEBD \n",
    "from a_mps import init_spinup_MPS\n",
    "import matplotlib.pyplot as plt\n",
    "\n",
    "\n",
    "sigmaX = np.array([[0., 1.],[1., 0.]])\n",
    "\n",
    "\n",
    "L = 30\n",
    "g = 1.3\n",
    "# t_final\n",
    "J = 1\n",
    "\n",
    "E, psi, model = example_TEBD_gs_finite(L, J, g)\n",
    "\n"
   ]
  },
  {
   "cell_type": "code",
   "execution_count": 63,
   "metadata": {},
   "outputs": [
    {
     "name": "stdout",
     "output_type": "stream",
     "text": [
      "[3.78687848e-05 2.69256723e-04 3.94128447e-04 5.43206977e-04\n",
      " 7.33648477e-04 9.85221924e-04 1.31824133e-03 1.76547894e-03\n",
      " 2.36322303e-03 3.17163872e-03 4.25889658e-03 5.73872868e-03\n",
      " 7.74295424e-03 1.04927312e-02 1.42522426e-02 1.94690793e-02\n",
      " 2.67020880e-02 3.69170405e-02 5.14079718e-02 7.25123447e-02\n",
      " 1.03786632e-01 1.52437212e-01 2.33015041e-01 3.89871996e-01\n",
      " 9.22484341e-01 3.88805873e-01 2.31850120e-01 1.49402413e-01\n",
      " 9.77662711e-02 2.77930124e-15]\n"
     ]
    },
    {
     "name": "stderr",
     "output_type": "stream",
     "text": [
      "/tmp/ipykernel_38728/4111334070.py:30: VisibleDeprecationWarning: Creating an ndarray from ragged nested sequences (which is a list-or-tuple of lists-or-tuples-or ndarrays with different lengths or shapes) is deprecated. If you meant to do this, you must specify 'dtype=object' when creating the ndarray.\n",
      "  return np.array(result)\n"
     ]
    },
    {
     "data": {
      "text/plain": [
       "[<matplotlib.lines.Line2D at 0x7f6e2254b1c0>]"
      ]
     },
     "execution_count": 63,
     "metadata": {},
     "output_type": "execute_result"
    },
    {
     "data": {
      "image/png": "[encoded data removed]",
      "text/plain": [
       "<Figure size 640x480 with 1 Axes>"
      ]
     },
     "metadata": {},
     "output_type": "display_data"
    }
   ],
   "source": [
    "import copy\n",
    "psi2 = psi.copy()\n",
    "\n",
    "                # vL i vR | i i*\n",
    "psi2.Bs[5] = np.tensordot(psi2.Bs[5],sigmaX,[1, 1]).transpose([0,2, 1]) # vL vR i\n",
    "result = calc_contraction_func_final(sigmaX, psi, psi2)\n",
    "print(result)\n",
    "\n",
    "plt.plot(result)\n",
    "\n"
   ]
  },
  {
   "cell_type": "code",
   "execution_count": 91,
   "metadata": {},
   "outputs": [
    {
     "name": "stdout",
     "output_type": "stream",
     "text": [
      "finite TEBD, (imaginary time evolution)\n",
      "L=20, J=1.0, g=0.30\n",
      "dt = 0.10000: E = -19.4977160828055\n",
      "dt = 0.01000: E = -19.4980742014568\n",
      "dt = 0.00100: E = -19.4981103981870\n",
      "dt = 0.00010: E = -19.4981140250708\n",
      "dt = 0.00001: E = -19.4981143877480\n",
      "final bond dimensions:  [2, 4, 8, 12, 14, 14, 14, 14, 14, 14, 14, 14, 14, 14, 14, 12, 8, 4, 2]\n"
     ]
    },
    {
     "name": "stderr",
     "output_type": "stream",
     "text": [
      "/tmp/ipykernel_38728/4111334070.py:30: VisibleDeprecationWarning: Creating an ndarray from ragged nested sequences (which is a list-or-tuple of lists-or-tuples-or ndarrays with different lengths or shapes) is deprecated. If you meant to do this, you must specify 'dtype=object' when creating the ndarray.\n",
      "  return np.array(result)\n"
     ]
    },
    {
     "name": "stdout",
     "output_type": "stream",
     "text": [
      "[-1.18520769e-06+1.39100203e-06j  6.63605148e-05+3.72619199e-05j\n",
      "  1.22746914e-05-5.58295183e-04j -2.75558526e-03+2.59756322e-03j\n",
      "  1.38306130e-02-2.38061048e-03j -4.18062326e-02-1.53071844e-02j\n",
      "  4.74162312e-02+4.29135388e-02j -3.42781115e-02-5.40440745e-02j\n",
      "  2.36969407e-02+5.99515445e-02j -2.21735810e-02-6.56319118e-02j\n",
      "  2.36973364e-02+5.99495824e-02j -2.91602470e-02-4.84734794e-02j\n",
      "  4.74071800e-02+4.29129519e-02j -3.27227849e-02-1.13127197e-02j\n",
      "  1.38450843e-02-2.38273442e-03j -1.86356398e-03+2.10893207e-03j\n",
      "  2.39661853e-05-5.21828701e-04j  3.14009662e-05+5.89315916e-05j\n",
      " -4.33551924e-05+2.64636677e-06j -3.74757332e-19+3.23639300e-19j]\n"
     ]
    }
   ],
   "source": [
    "#check\n",
    "from c_tebd import run_TEBD \n",
    "from a_mps import init_spinup_MPS\n",
    "import matplotlib.pyplot as plt\n",
    "import copy\n",
    "\n",
    "sigmaY = np.array([[0., 1j],[-1j, 0.]])\n",
    "sigmaX = np.array([[0., 1.],[1., 0.]])\n",
    "\n",
    "L = 20\n",
    "g = 0.3\n",
    "# t_final\n",
    "J = 1\n",
    "\n",
    "\n",
    "dt = 0.3j\n",
    "\n",
    "model = TFIModel(L, J=J, g=g, h=0.)\n",
    "U_bonds = calc_U_bonds(model, dt)\n",
    "\n",
    "\n",
    "E_tmp, psi, model_tmp = example_TEBD_gs_finite(L, J, g)\n",
    "gnd_state = psi.copy()\n",
    "                # vL i vR | i i*\n",
    "psi.Bs[L//2] = np.tensordot(psi.Bs[L//2],sigmaY,[1, 1]).transpose([0,2, 1]) # vL vR i\n",
    "result = calc_contraction_func_final(sigmaY, psi, gnd_state)\n",
    "\n",
    "corrs = [result]\n",
    "ents = [psi.entanglement_entropy()]\n",
    "for n in range(30):\n",
    "    run_TEBD(psi, U_bonds, N_steps=1, chi_max=100, eps=1.e-10)\n",
    "                    # vL i vR | i i*\n",
    "    # psi.Bs[5] = np.tensordot(psi.Bs[5],sigmaY,[1, 1]).transpose([0,2, 1]) # vL vR i\n",
    "    result = calc_contraction_func_final(sigmaY, psi, gnd_state)\n",
    "    ents.append(psi.entanglement_entropy())\n",
    "    corrs.append(result)\n",
    "\n",
    "print(result)\n"
   ]
  },
  {
   "cell_type": "code",
   "execution_count": 92,
   "metadata": {},
   "outputs": [
    {
     "data": {
      "text/plain": [
       "<matplotlib.image.AxesImage at 0x7f6e20dd3c40>"
      ]
     },
     "execution_count": 92,
     "metadata": {},
     "output_type": "execute_result"
    },
    {
     "data": {
      "image/png": "[encoded data removed]",
      "text/plain": [
       "<Figure size 640x480 with 1 Axes>"
      ]
     },
     "metadata": {},
     "output_type": "display_data"
    },
    {
     "data": {
      "image/png": "[encoded data removed]",
      "text/plain": [
       "<Figure size 640x480 with 1 Axes>"
      ]
     },
     "metadata": {},
     "output_type": "display_data"
    }
   ],
   "source": [
    "\n",
    "plt.imshow(np.array(corrs).real)\n",
    "plt.figure()\n",
    "plt.imshow(ents)\n"
   ]
  },
  {
   "cell_type": "code",
   "execution_count": null,
   "metadata": {},
   "outputs": [],
   "source": []
  }
 ],
 "metadata": {
  "kernelspec": {
   "display_name": "Python 3",
   "language": "python",
   "name": "python3"
  },
  "language_info": {
   "codemirror_mode": {
    "name": "ipython",
    "version": 3
   },
   "file_extension": ".py",
   "mimetype": "text/x-python",
   "name": "python",
   "nbconvert_exporter": "python",
   "pygments_lexer": "ipython3",
   "version": "3.10.6"
  },
  "orig_nbformat": 4
 },
 "nbformat": 4,
 "nbformat_minor": 2
}
