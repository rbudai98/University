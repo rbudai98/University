{
 "cells": [
  {
   "cell_type": "code",
   "execution_count": 9,
   "metadata": {},
   "outputs": [],
   "source": [
    "\"\"\"Toy code implementing the transverse-field ising model and\n",
    "   the ising model with a transverse and longitudinal field.\"\"\"\n",
    "\n",
    "import numpy as np\n"
   ]
  },
  {
   "cell_type": "code",
   "execution_count": 7,
   "metadata": {},
   "outputs": [],
   "source": [
    "\n",
    "class MPS:\n",
    "    \"\"\"Class for a matrix product state.\n",
    "\n",
    "    We index sites with `i` from 0 to L-1; bond `i` is left of site `i`.\n",
    "    We *assume* that the state is in right-canonical form.\n",
    "\n",
    "    Parameters\n",
    "    ----------\n",
    "    Bs, Ss:\n",
    "        Same as attributes.\n",
    "\n",
    "    Attributes\n",
    "    ----------\n",
    "    Bs : list of np.Array[ndim=3]\n",
    "        The 'matrices' in right-canonical form, one for each physical site.\n",
    "        Each `B[i]` has legs (virtual left, physical, virtual right), in short ``vL i vR``\n",
    "    Ss : list of np.Array[ndim=1]\n",
    "        The Schmidt values at each of the bonds, ``Ss[i]`` is left of ``Bs[i]``.\n",
    "    L : int\n",
    "        Number of sites.\n",
    "    \"\"\"\n",
    "\n",
    "    def __init__(self, Bs, Ss):\n",
    "        self.Bs = Bs\n",
    "        self.Ss = Ss\n",
    "        self.L = len(Bs)\n",
    "\n",
    "    def copy(self):\n",
    "        return MPS([B.copy() for B in self.Bs], [S.copy() for S in self.Ss])\n",
    "\n",
    "    def get_theta1(self, i):\n",
    "        \"\"\"Calculate effective single-site wave function on sites i in mixed canonical form.\n",
    "\n",
    "        The returned array has legs ``vL, i, vR`` (as one of the Bs).\"\"\"\n",
    "        return np.tensordot(np.diag(self.Ss[i]), self.Bs[i], [1, 0])  # vL [vL'], [vL] i vR\n",
    "\n",
    "    def get_theta2(self, i):\n",
    "        \"\"\"Calculate effective two-site wave function on sites i,j=(i+1) in mixed canonical form.\n",
    "\n",
    "        The returned array has legs ``vL, i, j, vR``.\"\"\"\n",
    "        j = i + 1\n",
    "        return np.tensordot(self.get_theta1(i), self.Bs[j], [2, 0])  # vL i [vR], [vL] j vR\n",
    "\n",
    "    def get_chi(self):\n",
    "        \"\"\"Return bond dimensions.\"\"\"\n",
    "        return [self.Bs[i].shape[2] for i in range(self.L - 1)]\n",
    "\n",
    "    def site_expectation_value(self, op):\n",
    "        \"\"\"Calculate expectation values of a local operator at each site.\"\"\"\n",
    "        result = []\n",
    "        for i in range(self.L):\n",
    "            theta = self.get_theta1(i)  # vL i vR\n",
    "            op_theta = np.tensordot(op, theta, axes=[1, 1])  # i [i*], vL [i] vR\n",
    "            result.append(np.tensordot(theta.conj(), op_theta, [[0, 1, 2], [1, 0, 2]]))\n",
    "            # [vL*] [i*] [vR*], [i] [vL] [vR]\n",
    "        return np.real_if_close(result)\n",
    "\n",
    "    def bond_expectation_value(self, op):\n",
    "        \"\"\"Calculate expectation values of a local operator at each bond.\"\"\"\n",
    "        result = []\n",
    "        for i in range(self.L - 1):\n",
    "            theta = self.get_theta2(i)  # vL i j vR\n",
    "            op_theta = np.tensordot(op[i], theta, axes=[[2, 3], [1, 2]])\n",
    "            # i j [i*] [j*], vL [i] [j] vR\n",
    "            result.append(np.tensordot(theta.conj(), op_theta, [[0, 1, 2, 3], [2, 0, 1, 3]]))\n",
    "            # [vL*] [i*] [j*] [vR*], [i] [j] [vL] [vR]\n",
    "        return np.real_if_close(result)\n",
    "\n",
    "    def entanglement_entropy(self):\n",
    "        \"\"\"Return the (von-Neumann) entanglement entropy for a bipartition at any of the bonds.\"\"\"\n",
    "        result = []\n",
    "        for i in range(1, self.L):\n",
    "            S = self.Ss[i].copy()\n",
    "            S[S < 1.e-20] = 0.  # 0*log(0) should give 0; avoid warning or NaN.\n",
    "            S2 = S * S\n",
    "            assert abs(np.linalg.norm(S) - 1.) < 1.e-14\n",
    "            result.append(-np.sum(S2 * np.log(S2)))\n",
    "        return np.array(result)\n",
    "\n"
   ]
  },
  {
   "cell_type": "code",
   "execution_count": 19,
   "metadata": {},
   "outputs": [],
   "source": [
    "\"\"\"Toy code implementing the transverse-field ising model and\n",
    "   the ising model with a transverse and longitudinal field.\"\"\"\n",
    "\n",
    "import numpy as np\n",
    "\n",
    "\n",
    "class TFIModel:\n",
    "    \"\"\"Class generating the Hamiltonian of the transverse-field Ising model.\n",
    "\n",
    "    The Hamiltonian reads\n",
    "    .. math ::\n",
    "        H = - J \\\\sum_{i} \\\\sigma^x_i \\\\sigma^x_{i+1} - g \\\\sum_{i} \\\\sigma^z_i\n",
    "\n",
    "    Parameters\n",
    "    ----------\n",
    "    L : int\n",
    "        Number of sites.\n",
    "    J, g : float\n",
    "        Coupling parameters of the above defined Hamiltonian.\n",
    "\n",
    "    Attributes\n",
    "    ----------\n",
    "    L : int\n",
    "        Number of sites.\n",
    "    d : int\n",
    "        Local dimension (=2 for spin-1/2 of the transverse field ising model)\n",
    "    sigmax, sigmay, sigmaz, id :\n",
    "        Local operators, namely the Pauli matrices and identity.\n",
    "    H_bonds : list of np.Array[ndim=4]\n",
    "        The Hamiltonian written in terms of local 2-site operators, ``H = sum_i H_bonds[i]``.\n",
    "        Each ``H_bonds[i]`` has (physical) legs (i out, (i+1) out, i in, (i+1) in),\n",
    "        in short ``i j i* j*``.\n",
    "    \"\"\"\n",
    "\n",
    "    def __init__(self, L, J, g, h=0):\n",
    "        self.L, self.d = L, 2\n",
    "        self.J, self.g, self.h = J, g, h\n",
    "\n",
    "        self.sigmax = np.array([[0., 1.], [1., 0.]])\n",
    "        self.sigmay = np.array([[0., -1j], [1j, 0.]])\n",
    "        self.sigmaz = np.array([[1., 0.], [0., -1.]])\n",
    "        self.id = np.eye(2)\n",
    "        self.init_H_bonds()\n",
    "\n",
    "    def init_H_bonds(self):\n",
    "        \"\"\"Initialize `H_bonds` hamiltonian. Called by __init__().\"\"\"\n",
    "        sx, sz, id = self.sigmax, self.sigmaz, self.id\n",
    "        d = self.d\n",
    "        H_list = []\n",
    "        for i in range(self.L - 1):\n",
    "            gL = gR = 0.5 * self.g\n",
    "            hL = hR = 0.5 * self.h\n",
    "            if i == 0: # first bond\n",
    "                gL = self.g\n",
    "                hL = self.h\n",
    "            if i + 1 == self.L - 1: # last bond\n",
    "                gR = self.g\n",
    "                hR = self.h\n",
    "\n",
    "            H_bond = -self.J * np.kron(sx, sx) - gL * np.kron(sz, id) - gR * np.kron(id, sz) - hL * np.kron(sx, id) - hR * np.kron(id, sx)                \n",
    "            # H_bond has legs ``i, j, i*, j*``\n",
    "            H_list.append(np.reshape(H_bond, [d, d, d, d]))\n",
    "        self.H_bonds = H_list\n",
    "\n",
    "    def energy(self, psi):\n",
    "        \"\"\"Evaluate energy E = <psi|H|psi> for the given MPS.\"\"\"\n",
    "        assert psi.L == self.L\n",
    "        return np.sum(psi.bond_expectation_value(self.H_bonds))\n"
   ]
  },
  {
   "cell_type": "code",
   "execution_count": 4,
   "metadata": {},
   "outputs": [],
   "source": [
    "def init_spinup_MPS(L):\n",
    "    \"\"\"Return a product state with all spins up as an MPS\"\"\"\n",
    "    B = np.zeros([1, 2, 1], np.float)\n",
    "    B[0, 0, 0] = 1.\n",
    "    S = np.ones([1], np.float)\n",
    "    Bs = [B.copy() for i in range(L)]\n",
    "    Ss = [S.copy() for i in range(L)]\n",
    "    return MPS(Bs, Ss)"
   ]
  },
  {
   "cell_type": "code",
   "execution_count": 5,
   "metadata": {},
   "outputs": [],
   "source": [
    "def init_spinup_right_MPS(L):\n",
    "    \"\"\"Return a product state with all spins right as an MPS\"\"\"\n",
    "    B = np.zeros([1, 2, 1], np.float)\n",
    "    B[0, 0, 0] = 1./np.sqrt(2)\n",
    "    B[0, 1, 0] = 1./np.sqrt(2)\n",
    "    S = np.ones([1], np.float)\n",
    "    Bs = [B.copy() for i in range(L)]\n",
    "    Ss = [S.copy() for i in range(L)]\n",
    "    return MPS(Bs, Ss)\n"
   ]
  },
  {
   "cell_type": "code",
   "execution_count": 18,
   "metadata": {},
   "outputs": [
    {
     "name": "stdout",
     "output_type": "stream",
     "text": [
      "Energy up for g= 0.5, : -7.0\n",
      "Energy right for g= 0.5, : -27.0\n"
     ]
    },
    {
     "name": "stderr",
     "output_type": "stream",
     "text": [
      "/tmp/ipykernel_28474/3871078624.py:3: DeprecationWarning: `np.float` is a deprecated alias for the builtin `float`. To silence this warning, use `float` by itself. Doing this will not modify any behavior and is safe. If you specifically wanted the numpy scalar type, use `np.float64` here.\n",
      "Deprecated in NumPy 1.20; for more details and guidance: https://numpy.org/devdocs/release/1.20.0-notes.html#deprecations\n",
      "  B = np.zeros([1, 2, 1], np.float)\n",
      "/tmp/ipykernel_28474/3871078624.py:5: DeprecationWarning: `np.float` is a deprecated alias for the builtin `float`. To silence this warning, use `float` by itself. Doing this will not modify any behavior and is safe. If you specifically wanted the numpy scalar type, use `np.float64` here.\n",
      "Deprecated in NumPy 1.20; for more details and guidance: https://numpy.org/devdocs/release/1.20.0-notes.html#deprecations\n",
      "  S = np.ones([1], np.float)\n",
      "/tmp/ipykernel_28474/1309637730.py:6: DeprecationWarning: `np.float` is a deprecated alias for the builtin `float`. To silence this warning, use `float` by itself. Doing this will not modify any behavior and is safe. If you specifically wanted the numpy scalar type, use `np.float64` here.\n",
      "Deprecated in NumPy 1.20; for more details and guidance: https://numpy.org/devdocs/release/1.20.0-notes.html#deprecations\n",
      "  S = np.ones([1], np.float)\n"
     ]
    }
   ],
   "source": [
    "L = 14\n",
    "J = 1 \n",
    "g =  0.5\n",
    "\n",
    "spin_up = init_spinup_MPS(L)\n",
    "spin_right = init_spinup_right_MPS(L)\n",
    "model = TFIModel(L,J,g,1.0)\n",
    "\n",
    "energy_up = TFIModel.energy(model, spin_up)\n",
    "energy_right = TFIModel.energy(model, spin_right)\n",
    "\n",
    "print(f\"Energy up for g= {g}, : {energy_up:.1f}\")\n",
    "print(f\"Energy right for g= {g}, : {energy_right:.1f}\")\n",
    "\n",
    "# test = TFIModel(14, 1, 0.5)\n",
    "# print()\n"
   ]
  },
  {
   "cell_type": "code",
   "execution_count": 17,
   "metadata": {},
   "outputs": [
    {
     "name": "stdout",
     "output_type": "stream",
     "text": [
      "Energy up for g= 1, : -14.0\n",
      "Energy right for g= 1, : -27.0\n"
     ]
    },
    {
     "name": "stderr",
     "output_type": "stream",
     "text": [
      "/tmp/ipykernel_28474/3871078624.py:3: DeprecationWarning: `np.float` is a deprecated alias for the builtin `float`. To silence this warning, use `float` by itself. Doing this will not modify any behavior and is safe. If you specifically wanted the numpy scalar type, use `np.float64` here.\n",
      "Deprecated in NumPy 1.20; for more details and guidance: https://numpy.org/devdocs/release/1.20.0-notes.html#deprecations\n",
      "  B = np.zeros([1, 2, 1], np.float)\n",
      "/tmp/ipykernel_28474/3871078624.py:5: DeprecationWarning: `np.float` is a deprecated alias for the builtin `float`. To silence this warning, use `float` by itself. Doing this will not modify any behavior and is safe. If you specifically wanted the numpy scalar type, use `np.float64` here.\n",
      "Deprecated in NumPy 1.20; for more details and guidance: https://numpy.org/devdocs/release/1.20.0-notes.html#deprecations\n",
      "  S = np.ones([1], np.float)\n",
      "/tmp/ipykernel_28474/1309637730.py:6: DeprecationWarning: `np.float` is a deprecated alias for the builtin `float`. To silence this warning, use `float` by itself. Doing this will not modify any behavior and is safe. If you specifically wanted the numpy scalar type, use `np.float64` here.\n",
      "Deprecated in NumPy 1.20; for more details and guidance: https://numpy.org/devdocs/release/1.20.0-notes.html#deprecations\n",
      "  S = np.ones([1], np.float)\n"
     ]
    }
   ],
   "source": [
    "L = 14\n",
    "J = 1 \n",
    "g =  1\n",
    "\n",
    "spin_up = init_spinup_MPS(L)\n",
    "spin_right = init_spinup_right_MPS(L)\n",
    "model = TFIModel(L,J,g,1.0)\n",
    "\n",
    "energy_up = TFIModel.energy(model, spin_up)\n",
    "energy_right = TFIModel.energy(model, spin_right)\n",
    "\n",
    "print(f\"Energy up for g= {g}, : {energy_up:.1f}\")\n",
    "print(f\"Energy right for g= {g}, : {energy_right:.1f}\")\n"
   ]
  },
  {
   "cell_type": "code",
   "execution_count": 16,
   "metadata": {},
   "outputs": [
    {
     "name": "stdout",
     "output_type": "stream",
     "text": [
      "Energy up for g= 1.5, : -21.0\n",
      "Energy right for g= 1.5, : -27.0\n"
     ]
    },
    {
     "name": "stderr",
     "output_type": "stream",
     "text": [
      "/tmp/ipykernel_28474/3871078624.py:3: DeprecationWarning: `np.float` is a deprecated alias for the builtin `float`. To silence this warning, use `float` by itself. Doing this will not modify any behavior and is safe. If you specifically wanted the numpy scalar type, use `np.float64` here.\n",
      "Deprecated in NumPy 1.20; for more details and guidance: https://numpy.org/devdocs/release/1.20.0-notes.html#deprecations\n",
      "  B = np.zeros([1, 2, 1], np.float)\n",
      "/tmp/ipykernel_28474/3871078624.py:5: DeprecationWarning: `np.float` is a deprecated alias for the builtin `float`. To silence this warning, use `float` by itself. Doing this will not modify any behavior and is safe. If you specifically wanted the numpy scalar type, use `np.float64` here.\n",
      "Deprecated in NumPy 1.20; for more details and guidance: https://numpy.org/devdocs/release/1.20.0-notes.html#deprecations\n",
      "  S = np.ones([1], np.float)\n",
      "/tmp/ipykernel_28474/1309637730.py:6: DeprecationWarning: `np.float` is a deprecated alias for the builtin `float`. To silence this warning, use `float` by itself. Doing this will not modify any behavior and is safe. If you specifically wanted the numpy scalar type, use `np.float64` here.\n",
      "Deprecated in NumPy 1.20; for more details and guidance: https://numpy.org/devdocs/release/1.20.0-notes.html#deprecations\n",
      "  S = np.ones([1], np.float)\n"
     ]
    }
   ],
   "source": [
    "L = 14\n",
    "J = 1 \n",
    "g =  1.5\n",
    "\n",
    "spin_up = init_spinup_MPS(L)\n",
    "spin_right = init_spinup_right_MPS(L)\n",
    "model = TFIModel(L,J,g,1.0)\n",
    "\n",
    "energy_up = TFIModel.energy(model, spin_up)\n",
    "energy_right = TFIModel.energy(model, spin_right)\n",
    "\n",
    "print(f\"Energy up for g= {g}, : {energy_up:.1f}\")\n",
    "print(f\"Energy right for g= {g}, : {energy_right:.1f}\")\n"
   ]
  },
  {
   "cell_type": "code",
   "execution_count": null,
   "metadata": {},
   "outputs": [],
   "source": []
  }
 ],
 "metadata": {
  "kernelspec": {
   "display_name": "Python 3",
   "language": "python",
   "name": "python3"
  },
  "language_info": {
   "codemirror_mode": {
    "name": "ipython",
    "version": 3
   },
   "file_extension": ".py",
   "mimetype": "text/x-python",
   "name": "python",
   "nbconvert_exporter": "python",
   "pygments_lexer": "ipython3",
   "version": "3.10.6"
  },
  "orig_nbformat": 4
 },
 "nbformat": 4,
 "nbformat_minor": 2
}
