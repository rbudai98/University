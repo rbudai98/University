{
 "cells": [
  {
   "cell_type": "code",
   "execution_count": 2,
   "metadata": {},
   "outputs": [],
   "source": [
    "import numpy as np"
   ]
  },
  {
   "cell_type": "code",
   "execution_count": 13,
   "metadata": {},
   "outputs": [
    {
     "data": {
      "text/plain": [
       "(array([[1., 0.],\n",
       "        [0., 1.]]),\n",
       " matrix([[ 0.70710678,  0.70710678],\n",
       "         [ 0.70710678, -0.70710678]]),\n",
       " matrix([[1.+0.j, 0.+0.j, 0.+0.j, 0.+0.j],\n",
       "         [0.+0.j, 1.+0.j, 0.+0.j, 0.+0.j],\n",
       "         [0.+0.j, 0.+0.j, 1.+0.j, 0.+0.j],\n",
       "         [0.+0.j, 0.+0.j, 0.+0.j, 0.+1.j]]),\n",
       " matrix([[1.        +0.j        , 0.        +0.j        ,\n",
       "          0.        +0.j        , 0.        +0.j        ],\n",
       "         [0.        +0.j        , 1.        +0.j        ,\n",
       "          0.        +0.j        , 0.        +0.j        ],\n",
       "         [0.        +0.j        , 0.        +0.j        ,\n",
       "          1.        +0.j        , 0.        +0.j        ],\n",
       "         [0.        +0.j        , 0.        +0.j        ,\n",
       "          0.        +0.j        , 0.70710678+0.70710678j]]))"
      ]
     },
     "execution_count": 13,
     "metadata": {},
     "output_type": "execute_result"
    }
   ],
   "source": [
    "def reorder_gate(G, perm):\n",
    "    \"\"\"\n",
    "    Adapt gate ’G’ to an ordering of the qubits as specified in ’perm’.\n",
    "    Example, given G = np.kron(np.kron(A, B), C):\n",
    "    reorder_gate(G, [1, 2, 0]) == np.kron(np.kron(B, C), A)\n",
    "    \"\"\"\n",
    "    perm = list(perm)\n",
    "    # number of qubits\n",
    "    n = len(perm)\n",
    "    # reorder both input and output dimensions\n",
    "    perm2 = perm + [n + i for i in perm]\n",
    "    return np.reshape(np.transpose(np.reshape(G, 2*n*[2]), perm2), (2**n, 2**n))"
   ]
  },
  {
   "cell_type": "code",
   "execution_count": 36,
   "metadata": {},
   "outputs": [
    {
     "data": {
      "text/plain": [
       "(array([[1., 0.],\n",
       "        [0., 1.]]),\n",
       " array([[ 0.70710678,  0.70710678],\n",
       "        [ 0.70710678, -0.70710678]]),\n",
       " array([[1.+0.j, 0.+0.j, 0.+0.j, 0.+0.j],\n",
       "        [0.+0.j, 1.+0.j, 0.+0.j, 0.+0.j],\n",
       "        [0.+0.j, 0.+0.j, 1.+0.j, 0.+0.j],\n",
       "        [0.+0.j, 0.+0.j, 0.+0.j, 0.+1.j]]),\n",
       " array([[1.        +0.j        , 0.        +0.j        ,\n",
       "         0.        +0.j        , 0.        +0.j        ],\n",
       "        [0.        +0.j        , 1.        +0.j        ,\n",
       "         0.        +0.j        , 0.        +0.j        ],\n",
       "        [0.        +0.j        , 0.        +0.j        ,\n",
       "         1.        +0.j        , 0.        +0.j        ],\n",
       "        [0.        +0.j        , 0.        +0.j        ,\n",
       "         0.        +0.j        , 0.70710678+0.70710678j]]))"
      ]
     },
     "execution_count": 36,
     "metadata": {},
     "output_type": "execute_result"
    }
   ],
   "source": [
    "I = np.eye(2)\n",
    "H = 1/np.sqrt(2) * np.array([[1,1], [1, -1]])\n",
    "CS = np.array([[1, 0, 0, 0], [0, 1, 0, 0], [0, 0, 1, 0], [0, 0, 0, 1j]])\n",
    "CT = np.array([[1, 0, 0, 0], [0, 1, 0, 0], [0, 0, 1, 0], [0, 0, 0, np.exp(np.pi*1j/4)]])\n",
    "expected = np.array([[np.exp(2*np.pi*1j*j*k/8)/np.sqrt(8) for j in range(8)] for k in range(8)])\n",
    "\n",
    "I, H, CS, CT"
   ]
  },
  {
   "cell_type": "code",
   "execution_count": 47,
   "metadata": {},
   "outputs": [
    {
     "data": {
      "text/plain": [
       "3.266737344087186"
      ]
     },
     "execution_count": 47,
     "metadata": {},
     "output_type": "execute_result"
    }
   ],
   "source": [
    "step1 = np.kron(H, np.kron(I, I))\n",
    "step2 = reorder_gate(np.kron(CS, I) * reorder_gate(step1, [1,0,2]), [1,0,2])\n",
    "step3 = reorder_gate(np.kron(CT, I) * reorder_gate(step2, [2,0,1]), [1,2,0])\n",
    "step4 = np.kron(I, np.kron(H, I)) * step3\n",
    "step5 = reorder_gate(np.kron(CS, I) * reorder_gate(step4, [2,1,0]), [2,1,0])\n",
    "step6 = np.kron(I, np.kron(I, H)) * step5\n",
    "final = reorder_gate(step6, [2,1,0])\n",
    "\n",
    "error = abs(sum(sum(final - expected)))\n",
    "error\n"
   ]
  }
 ],
 "metadata": {
  "kernelspec": {
   "display_name": "cdlm",
   "language": "python",
   "name": "python3"
  },
  "language_info": {
   "codemirror_mode": {
    "name": "ipython",
    "version": 3
   },
   "file_extension": ".py",
   "mimetype": "text/x-python",
   "name": "python",
   "nbconvert_exporter": "python",
   "pygments_lexer": "ipython3",
   "version": "3.9.15"
  },
  "orig_nbformat": 4
 },
 "nbformat": 4,
 "nbformat_minor": 2
}
