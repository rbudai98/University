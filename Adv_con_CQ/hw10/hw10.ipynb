{
 "cells": [
  {
   "cell_type": "code",
   "execution_count": 87,
   "metadata": {},
   "outputs": [
    {
     "name": "stdout",
     "output_type": "stream",
     "text": [
      "[[1.  0.  0. ]\n",
      " [0.  0.5 0. ]\n",
      " [0.  0.  0.1]]\n",
      "[[ 1.          0.          0.          0.          0.5         0.\n",
      "   0.          0.          0.1       ]\n",
      " [ 0.          0.          0.          0.          0.8660254   0.\n",
      "   0.          0.          0.99498744]\n",
      " [ 0.          0.          0.          0.          0.8660254   0.\n",
      "   0.          0.          0.99498744]\n",
      " [-1.          0.          0.          0.         -0.5         0.\n",
      "   0.          0.         -0.1       ]]\n"
     ]
    }
   ],
   "source": [
    "# Ex 10.1\n",
    "# a)\n",
    "import numpy as np\n",
    "import scipy\n",
    "\n",
    "\n",
    "X = np.array([[0, 1],[1, 0]])\n",
    "Y = np.array([[0, -1j],[1j, 0]])\n",
    "Z = np.array([[1, 0],[0, -1]])\n",
    "\n",
    "\n",
    "def U(H):\n",
    "        A = np.outer(Z, H)\n",
    "        Id = np.eye((int)(np.sqrt(H.size)))\n",
    "        B = scipy.linalg.sqrtm(Id - np.dot(H, H))\n",
    "        C = np.outer(X, B)\n",
    "        return A + C\n",
    "\n",
    "H = np.array([[1, 0],[0, 1]])\n",
    "\n",
    "phi = np.array([[1, 0, 0],[0, 1, 0], [0, 0, 1]])\n",
    "# print(phi[0].T)\n",
    "eigen_states = []\n",
    "for i in phi:\n",
    "        eigen_states.append(np.outer(i.T, i))\n",
    "\n",
    "R = np.array([1, 0.5, 0.1])\n",
    "H = R[0]*eigen_states[0] + R[1] *eigen_states[1] + R[2]*eigen_states[2]\n",
    "print(H)\n",
    "print(U(H))"
   ]
  },
  {
   "cell_type": "code",
   "execution_count": 89,
   "metadata": {},
   "outputs": [
    {
     "name": "stdout",
     "output_type": "stream",
     "text": [
      "[[ 1.          0.          0.          0.          0.5         0.\n",
      "   0.          0.          0.1       ]\n",
      " [ 0.          0.          0.          0.          0.8660254   0.\n",
      "   0.          0.          0.99498744]\n",
      " [ 0.          0.          0.          0.          0.8660254   0.\n",
      "   0.          0.          0.99498744]\n",
      " [-1.          0.          0.          0.         -0.5         0.\n",
      "   0.          0.         -0.1       ]]\n"
     ]
    }
   ],
   "source": [
    "# Ex 10.1\n",
    "# b)\n",
    "phi = np.array([[1, 0, 0],[0, 1, 0], [0, 0, 1]])\n",
    "# print(phi[0].T)\n",
    "eigen_states = []\n",
    "for i in phi:\n",
    "        eigen_states.append(np.outer(i.T, i))\n",
    "\n",
    "H_second = np.zeros((4,9))\n",
    "for i in range(3):\n",
    "        H_second += np.outer(U(R[i]), eigen_states[i])\n",
    "\n",
    "print(H_second)"
   ]
  },
  {
   "cell_type": "code",
   "execution_count": 92,
   "metadata": {},
   "outputs": [
    {
     "name": "stdout",
     "output_type": "stream",
     "text": [
      "[[ True  True  True  True  True  True  True  True  True]\n",
      " [ True  True  True  True  True  True  True  True  True]\n",
      " [ True  True  True  True  True  True  True  True  True]\n",
      " [ True  True  True  True  True  True  True  True  True]]\n"
     ]
    }
   ],
   "source": [
    "print(U(H) == H_second)"
   ]
  },
  {
   "cell_type": "code",
   "execution_count": 97,
   "metadata": {},
   "outputs": [
    {
     "name": "stdout",
     "output_type": "stream",
     "text": [
      "[1.         0.70710678 0.31622777]\n"
     ]
    },
    {
     "ename": "LinAlgError",
     "evalue": "1-dimensional array given. Array must be at least two-dimensional",
     "output_type": "error",
     "traceback": [
      "\u001b[0;31m---------------------------------------------------------------------------\u001b[0m",
      "\u001b[0;31mLinAlgError\u001b[0m                               Traceback (most recent call last)",
      "Cell \u001b[0;32mIn[97], line 6\u001b[0m\n\u001b[1;32m      4\u001b[0m initial_state \u001b[39m=\u001b[39m np\u001b[39m.\u001b[39msqrt(R)\u001b[39m.\u001b[39mT\n\u001b[1;32m      5\u001b[0m \u001b[39mprint\u001b[39m(initial_state)\n\u001b[0;32m----> 6\u001b[0m PREPARE \u001b[39m=\u001b[39m np\u001b[39m.\u001b[39;49mlinalg\u001b[39m.\u001b[39;49mqr(initial_state, mode\u001b[39m=\u001b[39;49m\u001b[39m'\u001b[39;49m\u001b[39mcomplete\u001b[39;49m\u001b[39m'\u001b[39;49m)\n\u001b[1;32m      7\u001b[0m \u001b[39mprint\u001b[39m(PREPARE)\n",
      "File \u001b[0;32m<__array_function__ internals>:180\u001b[0m, in \u001b[0;36mqr\u001b[0;34m(*args, **kwargs)\u001b[0m\n",
      "File \u001b[0;32m~/.local/lib/python3.10/site-packages/numpy/linalg/linalg.py:927\u001b[0m, in \u001b[0;36mqr\u001b[0;34m(a, mode)\u001b[0m\n\u001b[1;32m    924\u001b[0m         \u001b[39mraise\u001b[39;00m \u001b[39mValueError\u001b[39;00m(\u001b[39mf\u001b[39m\u001b[39m\"\u001b[39m\u001b[39mUnrecognized mode \u001b[39m\u001b[39m'\u001b[39m\u001b[39m{\u001b[39;00mmode\u001b[39m}\u001b[39;00m\u001b[39m'\u001b[39m\u001b[39m\"\u001b[39m)\n\u001b[1;32m    926\u001b[0m a, wrap \u001b[39m=\u001b[39m _makearray(a)\n\u001b[0;32m--> 927\u001b[0m _assert_stacked_2d(a)\n\u001b[1;32m    928\u001b[0m m, n \u001b[39m=\u001b[39m a\u001b[39m.\u001b[39mshape[\u001b[39m-\u001b[39m\u001b[39m2\u001b[39m:]\n\u001b[1;32m    929\u001b[0m t, result_t \u001b[39m=\u001b[39m _commonType(a)\n",
      "File \u001b[0;32m~/.local/lib/python3.10/site-packages/numpy/linalg/linalg.py:197\u001b[0m, in \u001b[0;36m_assert_stacked_2d\u001b[0;34m(*arrays)\u001b[0m\n\u001b[1;32m    195\u001b[0m \u001b[39mfor\u001b[39;00m a \u001b[39min\u001b[39;00m arrays:\n\u001b[1;32m    196\u001b[0m     \u001b[39mif\u001b[39;00m a\u001b[39m.\u001b[39mndim \u001b[39m<\u001b[39m \u001b[39m2\u001b[39m:\n\u001b[0;32m--> 197\u001b[0m         \u001b[39mraise\u001b[39;00m LinAlgError(\u001b[39m'\u001b[39m\u001b[39m%d\u001b[39;00m\u001b[39m-dimensional array given. Array must be \u001b[39m\u001b[39m'\u001b[39m\n\u001b[1;32m    198\u001b[0m                 \u001b[39m'\u001b[39m\u001b[39mat least two-dimensional\u001b[39m\u001b[39m'\u001b[39m \u001b[39m%\u001b[39m a\u001b[39m.\u001b[39mndim)\n",
      "\u001b[0;31mLinAlgError\u001b[0m: 1-dimensional array given. Array must be at least two-dimensional"
     ]
    }
   ],
   "source": [
    "# Ex 10.1\n",
    "# c)\n",
    "\n",
    "initial_state = np.sqrt(R).T\n",
    "print(initial_state)\n",
    "PREPARE = np.linalg.qr(initial_state, mode='complete')\n",
    "print(PREPARE)"
   ]
  }
 ],
 "metadata": {
  "kernelspec": {
   "display_name": "Python 3",
   "language": "python",
   "name": "python3"
  },
  "language_info": {
   "codemirror_mode": {
    "name": "ipython",
    "version": 3
   },
   "file_extension": ".py",
   "mimetype": "text/x-python",
   "name": "python",
   "nbconvert_exporter": "python",
   "pygments_lexer": "ipython3",
   "version": "3.10.6"
  },
  "orig_nbformat": 4
 },
 "nbformat": 4,
 "nbformat_minor": 2
}
