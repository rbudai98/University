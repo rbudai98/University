{
 "cells": [
  {
   "cell_type": "code",
   "execution_count": 98,
   "metadata": {},
   "outputs": [
    {
     "name": "stdout",
     "output_type": "stream",
     "text": [
      "[[1.  0.  0. ]\n",
      " [0.  0.5 0. ]\n",
      " [0.  0.  0.1]]\n",
      "[[ 1.          0.          0.          0.          0.5         0.\n",
      "   0.          0.          0.1       ]\n",
      " [ 0.          0.          0.          0.          0.8660254   0.\n",
      "   0.          0.          0.99498744]\n",
      " [ 0.          0.          0.          0.          0.8660254   0.\n",
      "   0.          0.          0.99498744]\n",
      " [-1.          0.          0.          0.         -0.5         0.\n",
      "   0.          0.         -0.1       ]]\n"
     ]
    }
   ],
   "source": [
    "# Ex 10.1\n",
    "# a)\n",
    "import numpy as np\n",
    "import scipy\n",
    "\n",
    "\n",
    "X = np.array([[0, 1],[1, 0]])\n",
    "Y = np.array([[0, -1j],[1j, 0]])\n",
    "Z = np.array([[1, 0],[0, -1]])\n",
    "\n",
    "\n",
    "def U(H):\n",
    "        A = np.outer(Z, H)\n",
    "        Id = np.eye((int)(np.sqrt(H.size)))\n",
    "        B = scipy.linalg.sqrtm(Id - np.dot(H, H))\n",
    "        C = np.outer(X, B)\n",
    "        return A + C\n",
    "\n",
    "H = np.array([[1, 0],[0, 1]])\n",
    "\n",
    "phi = np.array([[1, 0, 0],[0, 1, 0], [0, 0, 1]])\n",
    "# print(phi[0].T)\n",
    "eigen_states = []\n",
    "for i in phi:\n",
    "        eigen_states.append(np.outer(i.T, i))\n",
    "\n",
    "R = np.array([1, 0.5, 0.1])\n",
    "H = R[0]*eigen_states[0] + R[1] *eigen_states[1] + R[2]*eigen_states[2]\n",
    "print(H)\n",
    "print(U(H))"
   ]
  },
  {
   "cell_type": "code",
   "execution_count": 89,
   "metadata": {},
   "outputs": [
    {
     "name": "stdout",
     "output_type": "stream",
     "text": [
      "[[ 1.          0.          0.          0.          0.5         0.\n",
      "   0.          0.          0.1       ]\n",
      " [ 0.          0.          0.          0.          0.8660254   0.\n",
      "   0.          0.          0.99498744]\n",
      " [ 0.          0.          0.          0.          0.8660254   0.\n",
      "   0.          0.          0.99498744]\n",
      " [-1.          0.          0.          0.         -0.5         0.\n",
      "   0.          0.         -0.1       ]]\n"
     ]
    }
   ],
   "source": [
    "# Ex 10.1\n",
    "# b)\n",
    "phi = np.array([[1, 0, 0],[0, 1, 0], [0, 0, 1]])\n",
    "# print(phi[0].T)\n",
    "eigen_states = []\n",
    "for i in phi:\n",
    "        eigen_states.append(np.outer(i.T, i))\n",
    "\n",
    "H_second = np.zeros((4,9))\n",
    "for i in range(3):\n",
    "        H_second += np.outer(U(R[i]), eigen_states[i])\n",
    "\n",
    "print(H_second)"
   ]
  },
  {
   "cell_type": "code",
   "execution_count": 92,
   "metadata": {},
   "outputs": [
    {
     "name": "stdout",
     "output_type": "stream",
     "text": [
      "[[ True  True  True  True  True  True  True  True  True]\n",
      " [ True  True  True  True  True  True  True  True  True]\n",
      " [ True  True  True  True  True  True  True  True  True]\n",
      " [ True  True  True  True  True  True  True  True  True]]\n"
     ]
    }
   ],
   "source": [
    "print(U(H) == H_second)"
   ]
  },
  {
   "cell_type": "code",
   "execution_count": null,
   "metadata": {},
   "outputs": [],
   "source": []
  }
 ],
 "metadata": {
  "kernelspec": {
   "display_name": "Python 3",
   "language": "python",
   "name": "python3"
  },
  "language_info": {
   "codemirror_mode": {
    "name": "ipython",
    "version": 3
   },
   "file_extension": ".py",
   "mimetype": "text/x-python",
   "name": "python",
   "nbconvert_exporter": "python",
   "pygments_lexer": "ipython3",
   "version": "3.10.6"
  },
  "orig_nbformat": 4
 },
 "nbformat": 4,
 "nbformat_minor": 2
}
