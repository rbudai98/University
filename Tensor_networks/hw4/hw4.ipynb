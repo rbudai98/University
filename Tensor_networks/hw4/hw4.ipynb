{
 "cells": [
  {
   "cell_type": "code",
   "execution_count": 19,
   "metadata": {},
   "outputs": [],
   "source": [
    "import numpy as np\n"
   ]
  },
  {
   "cell_type": "code",
   "execution_count": null,
   "metadata": {},
   "outputs": [],
   "source": [
    "\n",
    "def permU(U):\n",
    "\n",
    "    return U\n"
   ]
  },
  {
   "cell_type": "code",
   "execution_count": 27,
   "metadata": {},
   "outputs": [
    {
     "name": "stdout",
     "output_type": "stream",
     "text": [
      "[1 2 3 7 5 5 0]\n",
      "1\n",
      "[1 2 3 7 5 5]\n",
      "[[0 1]\n",
      " [1 0]]\n",
      "0\n"
     ]
    },
    {
     "data": {
      "text/plain": [
       "(array([[ 0., -1.],\n",
       "        [-1.,  0.]]),\n",
       " array([1., 1.]),\n",
       " array([[-1., -0.],\n",
       "        [-0., -1.]]))"
      ]
     },
     "execution_count": 27,
     "metadata": {},
     "output_type": "execute_result"
    }
   ],
   "source": [
    "def compact_SVD(U):\n",
    "\n",
    "    v,s,w = np.linalg.svd(U)\n",
    "    cutDim = len(s[np.where(s==0)])\n",
    "    if cutDim !=0 :\n",
    "        v = v[:, :-cutDim]\n",
    "        s = s[:-cutDim]\n",
    "        w = w[:-cutDim, :]\n",
    "\n",
    "    return v, s, w\n"
   ]
  },
  {
   "cell_type": "code",
   "execution_count": null,
   "metadata": {},
   "outputs": [],
   "source": [
    "def reshapeVW(V, W):\n",
    "\n",
    "    r = len(V[0,:])\n",
    "    V = V.reshape(2,2,r)\n",
    "    W = W.reshape(r,2,2)\n",
    "    \n",
    "    return V, W"
   ]
  },
  {
   "cell_type": "code",
   "execution_count": null,
   "metadata": {},
   "outputs": [],
   "source": [
    "def reshapeVW(V, W):\n",
    "\n",
    "    return V, W\n",
    "\n",
    "    \n",
    "def decompose(fSim: np.array):\n",
    "    fSim = permU(fSim)\n",
    "    v,s,w = compact_SVD(fSim)\n",
    "    v, w = reshapeVW(v, w)\n",
    "    return v, s, w"
   ]
  }
 ],
 "metadata": {
  "kernelspec": {
   "display_name": "Python 3",
   "language": "python",
   "name": "python3"
  },
  "language_info": {
   "name": "python",
   "version": "3.10.2"
  },
  "orig_nbformat": 4
 },
 "nbformat": 4,
 "nbformat_minor": 2
}
