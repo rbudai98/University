{
 "cells": [
  {
   "cell_type": "code",
   "execution_count": 1,
   "metadata": {},
   "outputs": [],
   "source": [
    "import numpy as np\n",
    "import sys\n",
    "import copy\n",
    "import random\n",
    "from itertools import permutations\n",
    "from functools import reduce\n",
    "\n",
    "class RandomFourTensorNetwork:\n",
    "    def __init__(self):\n",
    "        self.bond_dims = {}\n",
    "        self.edges = {}\n",
    "        tensor_ids = set([0, 1, 2, 3])\n",
    "        self.tensors = [[], [], [], []]\n",
    "        bond_id = 0\n",
    "\n",
    "\t  # Randomly create legs to be contracted\n",
    "        for _ in range(random.randint(5, 8)):\n",
    "            t1, t2 = random.sample(tensor_ids, 2)\n",
    "            self.tensors[t1].append(bond_id)\n",
    "            self.tensors[t2].append(bond_id)\n",
    "            self.edges[bond_id] = (t1, t2)\n",
    "            self.bond_dims[bond_id] = random.randint(5, 15)\n",
    "            bond_id = bond_id + 1\n",
    "        \n",
    "        for t in self.tensors:\n",
    "            random.shuffle(t)\n",
    "        \n",
    "    def contract(self, bond_id: int):\n",
    "        t1_id = self.edges[bond_id][0]\n",
    "        t2_id = self.edges[bond_id][1]\n",
    "        tout = list(set(self.tensors[t1_id]+self.tensors[t2_id]))\n",
    "        self.tensors[t1_id] = self.tensors[t2_id] = tout\n",
    "        for tensor in self.tensors:\n",
    "            if bond_id in tensor:\n",
    "                tensor.remove(bond_id)\n",
    "        self.edges.pop(bond_id)\n",
    "        self.bond_dims.pop(bond_id)\n",
    "\n",
    "    def fully_contract(self, contraction_order: list):\n",
    "        for bond_id in contraction_order:\n",
    "            self.contract(bond_id)\n",
    "\n",
    "\n"
   ]
  },
  {
   "cell_type": "code",
   "execution_count": null,
   "metadata": {},
   "outputs": [],
   "source": [
    "def random_tensor_network():\n",
    "    return RandomFourTensorNetwork()\n",
    "\n"
   ]
  },
  {
   "cell_type": "code",
   "execution_count": null,
   "metadata": {},
   "outputs": [],
   "source": [
    "def cost(base_tn: RandomFourTensorNetwork, contract_order: list):\n",
    "    # TODO: Subproblem (b)\n",
    "\n",
    "    return contract_cost\n",
    "\n"
   ]
  },
  {
   "cell_type": "code",
   "execution_count": 2,
   "metadata": {},
   "outputs": [
    {
     "ename": "AttributeError",
     "evalue": "type object 'RandomFourTensorNetwork' has no attribute 'bound_dims'",
     "output_type": "error",
     "traceback": [
      "\u001b[0;31m---------------------------------------------------------------------------\u001b[0m",
      "\u001b[0;31mAttributeError\u001b[0m                            Traceback (most recent call last)",
      "Cell \u001b[0;32mIn[2], line 6\u001b[0m\n\u001b[1;32m      3\u001b[0m     s \u001b[39m=\u001b[39m RandomFourTensorNetwork\u001b[39m.\u001b[39mbound_dims\n\u001b[1;32m      4\u001b[0m     \u001b[39mreturn\u001b[39;00m \u001b[39msorted\u001b[39m(\u001b[39mrange\u001b[39m(\u001b[39mlen\u001b[39m(s)), key\u001b[39m=\u001b[39m\u001b[39mlambda\u001b[39;00m k: s[k])\n\u001b[0;32m----> 6\u001b[0m \u001b[39mprint\u001b[39m(max_bond_contraction(RandomFourTensorNetwork))\n",
      "Cell \u001b[0;32mIn[2], line 3\u001b[0m, in \u001b[0;36mmax_bond_contraction\u001b[0;34m(tn)\u001b[0m\n\u001b[1;32m      1\u001b[0m \u001b[39mdef\u001b[39;00m \u001b[39mmax_bond_contraction\u001b[39m(tn: RandomFourTensorNetwork):\n\u001b[1;32m      2\u001b[0m     \u001b[39m# TODO: Subproblem (a)\u001b[39;00m\n\u001b[0;32m----> 3\u001b[0m     s \u001b[39m=\u001b[39m RandomFourTensorNetwork\u001b[39m.\u001b[39;49mbound_dims\n\u001b[1;32m      4\u001b[0m     \u001b[39mreturn\u001b[39;00m \u001b[39msorted\u001b[39m(\u001b[39mrange\u001b[39m(\u001b[39mlen\u001b[39m(s)), key\u001b[39m=\u001b[39m\u001b[39mlambda\u001b[39;00m k: s[k])\n",
      "\u001b[0;31mAttributeError\u001b[0m: type object 'RandomFourTensorNetwork' has no attribute 'bound_dims'"
     ]
    }
   ],
   "source": [
    "def max_bond_contraction(tn: RandomFourTensorNetwork):\n",
    "    # TODO: Subproblem (a)\n",
    "    s = tn.bound_dims\n",
    "    return sorted(range(len(s)), key=lambda k: s[k])\n",
    "\n",
    "print(max_bond_contraction(tn))"
   ]
  },
  {
   "cell_type": "code",
   "execution_count": null,
   "metadata": {},
   "outputs": [],
   "source": [
    "def exhaustive_search_contraction(tn: RandomFourTensorNetwork):\n",
    "    # TODO: Subproblem (c)"
   ]
  }
 ],
 "metadata": {
  "kernelspec": {
   "display_name": "Python 3",
   "language": "python",
   "name": "python3"
  },
  "language_info": {
   "codemirror_mode": {
    "name": "ipython",
    "version": 3
   },
   "file_extension": ".py",
   "mimetype": "text/x-python",
   "name": "python",
   "nbconvert_exporter": "python",
   "pygments_lexer": "ipython3",
   "version": "3.10.6"
  },
  "orig_nbformat": 4
 },
 "nbformat": 4,
 "nbformat_minor": 2
}
